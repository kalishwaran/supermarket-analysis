{
 "cells": [
  {
   "cell_type": "code",
   "execution_count": 69,
   "id": "8d6095db-ab3c-4a75-bb6b-e2b51fb0f33e",
   "metadata": {},
   "outputs": [
    {
     "name": "stdout",
     "output_type": "stream",
     "text": [
      "Populating the interactive namespace from numpy and matplotlib\n"
     ]
    }
   ],
   "source": [
    "import numpy as np\n",
    "import pandas as pd\n",
    "import seaborn as sns\n",
    "import matplotlib.pyplot as plt\n",
    "%pylab inline"
   ]
  },
  {
   "cell_type": "code",
   "execution_count": 97,
   "id": "ba9d4091-3dbe-4de3-9769-ddc7158c1da4",
   "metadata": {},
   "outputs": [],
   "source": [
    "data=pd.read_csv(r\"C:\\Users\\kaleeshwaran m\\Downloads\\SampleSuperstore.csv\")"
   ]
  },
  {
   "cell_type": "code",
   "execution_count": 20,
   "id": "b797b0af-fbe1-46f9-8634-b2c3d86123fb",
   "metadata": {},
   "outputs": [
    {
     "data": {
      "text/html": [
       "<div>\n",
       "<style scoped>\n",
       "    .dataframe tbody tr th:only-of-type {\n",
       "        vertical-align: middle;\n",
       "    }\n",
       "\n",
       "    .dataframe tbody tr th {\n",
       "        vertical-align: top;\n",
       "    }\n",
       "\n",
       "    .dataframe thead th {\n",
       "        text-align: right;\n",
       "    }\n",
       "</style>\n",
       "<table border=\"1\" class=\"dataframe\">\n",
       "  <thead>\n",
       "    <tr style=\"text-align: right;\">\n",
       "      <th></th>\n",
       "      <th>Ship Mode</th>\n",
       "      <th>Segment</th>\n",
       "      <th>Country</th>\n",
       "      <th>City</th>\n",
       "      <th>State</th>\n",
       "      <th>Postal Code</th>\n",
       "      <th>Region</th>\n",
       "      <th>Category</th>\n",
       "      <th>Sub-Category</th>\n",
       "      <th>Sales</th>\n",
       "      <th>Quantity</th>\n",
       "      <th>Discount</th>\n",
       "      <th>Profit</th>\n",
       "    </tr>\n",
       "  </thead>\n",
       "  <tbody>\n",
       "    <tr>\n",
       "      <th>0</th>\n",
       "      <td>Second Class</td>\n",
       "      <td>Consumer</td>\n",
       "      <td>United States</td>\n",
       "      <td>Henderson</td>\n",
       "      <td>Kentucky</td>\n",
       "      <td>42420</td>\n",
       "      <td>South</td>\n",
       "      <td>Furniture</td>\n",
       "      <td>Bookcases</td>\n",
       "      <td>261.9600</td>\n",
       "      <td>2</td>\n",
       "      <td>0.00</td>\n",
       "      <td>41.9136</td>\n",
       "    </tr>\n",
       "    <tr>\n",
       "      <th>1</th>\n",
       "      <td>Second Class</td>\n",
       "      <td>Consumer</td>\n",
       "      <td>United States</td>\n",
       "      <td>Henderson</td>\n",
       "      <td>Kentucky</td>\n",
       "      <td>42420</td>\n",
       "      <td>South</td>\n",
       "      <td>Furniture</td>\n",
       "      <td>Chairs</td>\n",
       "      <td>731.9400</td>\n",
       "      <td>3</td>\n",
       "      <td>0.00</td>\n",
       "      <td>219.5820</td>\n",
       "    </tr>\n",
       "    <tr>\n",
       "      <th>2</th>\n",
       "      <td>Second Class</td>\n",
       "      <td>Corporate</td>\n",
       "      <td>United States</td>\n",
       "      <td>Los Angeles</td>\n",
       "      <td>California</td>\n",
       "      <td>90036</td>\n",
       "      <td>West</td>\n",
       "      <td>Office Supplies</td>\n",
       "      <td>Labels</td>\n",
       "      <td>14.6200</td>\n",
       "      <td>2</td>\n",
       "      <td>0.00</td>\n",
       "      <td>6.8714</td>\n",
       "    </tr>\n",
       "    <tr>\n",
       "      <th>3</th>\n",
       "      <td>Standard Class</td>\n",
       "      <td>Consumer</td>\n",
       "      <td>United States</td>\n",
       "      <td>Fort Lauderdale</td>\n",
       "      <td>Florida</td>\n",
       "      <td>33311</td>\n",
       "      <td>South</td>\n",
       "      <td>Furniture</td>\n",
       "      <td>Tables</td>\n",
       "      <td>957.5775</td>\n",
       "      <td>5</td>\n",
       "      <td>0.45</td>\n",
       "      <td>-383.0310</td>\n",
       "    </tr>\n",
       "    <tr>\n",
       "      <th>4</th>\n",
       "      <td>Standard Class</td>\n",
       "      <td>Consumer</td>\n",
       "      <td>United States</td>\n",
       "      <td>Fort Lauderdale</td>\n",
       "      <td>Florida</td>\n",
       "      <td>33311</td>\n",
       "      <td>South</td>\n",
       "      <td>Office Supplies</td>\n",
       "      <td>Storage</td>\n",
       "      <td>22.3680</td>\n",
       "      <td>2</td>\n",
       "      <td>0.20</td>\n",
       "      <td>2.5164</td>\n",
       "    </tr>\n",
       "  </tbody>\n",
       "</table>\n",
       "</div>"
      ],
      "text/plain": [
       "        Ship Mode    Segment        Country             City       State  \\\n",
       "0    Second Class   Consumer  United States        Henderson    Kentucky   \n",
       "1    Second Class   Consumer  United States        Henderson    Kentucky   \n",
       "2    Second Class  Corporate  United States      Los Angeles  California   \n",
       "3  Standard Class   Consumer  United States  Fort Lauderdale     Florida   \n",
       "4  Standard Class   Consumer  United States  Fort Lauderdale     Florida   \n",
       "\n",
       "   Postal Code Region         Category Sub-Category     Sales  Quantity  \\\n",
       "0        42420  South        Furniture    Bookcases  261.9600         2   \n",
       "1        42420  South        Furniture       Chairs  731.9400         3   \n",
       "2        90036   West  Office Supplies       Labels   14.6200         2   \n",
       "3        33311  South        Furniture       Tables  957.5775         5   \n",
       "4        33311  South  Office Supplies      Storage   22.3680         2   \n",
       "\n",
       "   Discount    Profit  \n",
       "0      0.00   41.9136  \n",
       "1      0.00  219.5820  \n",
       "2      0.00    6.8714  \n",
       "3      0.45 -383.0310  \n",
       "4      0.20    2.5164  "
      ]
     },
     "execution_count": 20,
     "metadata": {},
     "output_type": "execute_result"
    }
   ],
   "source": [
    "data.head()"
   ]
  },
  {
   "cell_type": "code",
   "execution_count": 99,
   "id": "ab69f7cc-e091-4ad5-8f4c-cf92b4eb1694",
   "metadata": {},
   "outputs": [],
   "source": [
    "#Drop unwanted column\n",
    "data=data.drop(['Postal Code','Country'],axis=1)"
   ]
  },
  {
   "cell_type": "code",
   "execution_count": 100,
   "id": "1d0886b8-d394-4155-8ccd-18c9bf566cb6",
   "metadata": {},
   "outputs": [
    {
     "data": {
      "text/plain": [
       "Ship Mode        object\n",
       "Segment          object\n",
       "City             object\n",
       "State            object\n",
       "Region           object\n",
       "Category         object\n",
       "Sub-Category     object\n",
       "Sales           float64\n",
       "Quantity          int64\n",
       "Discount        float64\n",
       "Profit          float64\n",
       "dtype: object"
      ]
     },
     "execution_count": 100,
     "metadata": {},
     "output_type": "execute_result"
    }
   ],
   "source": [
    "#checking datatypes\n",
    "data.dtypes"
   ]
  },
  {
   "cell_type": "code",
   "execution_count": 31,
   "id": "30403831-f3a0-46c4-9faa-fedb70225b12",
   "metadata": {},
   "outputs": [
    {
     "data": {
      "text/plain": [
       "Ship Mode       0\n",
       "Segment         0\n",
       "Country         0\n",
       "City            0\n",
       "State           0\n",
       "Region          0\n",
       "Category        0\n",
       "Sub-Category    0\n",
       "Sales           0\n",
       "Quantity        0\n",
       "Discount        0\n",
       "Profit          0\n",
       "dtype: int64"
      ]
     },
     "execution_count": 31,
     "metadata": {},
     "output_type": "execute_result"
    }
   ],
   "source": [
    "#checking nullvalues\n",
    "data.isnull().sum()"
   ]
  },
  {
   "cell_type": "code",
   "execution_count": 46,
   "id": "ebabec39-6c7e-430d-9e81-745fa0fa16a5",
   "metadata": {},
   "outputs": [
    {
     "data": {
      "text/plain": [
       "(9994, 12)"
      ]
     },
     "execution_count": 46,
     "metadata": {},
     "output_type": "execute_result"
    }
   ],
   "source": [
    "#checking shape\n",
    "data.shape"
   ]
  },
  {
   "cell_type": "code",
   "execution_count": 43,
   "id": "d5019d03-4ece-4113-8b45-f23ed3e69dd9",
   "metadata": {},
   "outputs": [
    {
     "data": {
      "text/plain": [
       "50"
      ]
     },
     "execution_count": 43,
     "metadata": {},
     "output_type": "execute_result"
    }
   ],
   "source": [
    "#checking dupicates\n",
    "data.duplicated().sum()"
   ]
  },
  {
   "cell_type": "markdown",
   "id": "42ae631b-e7a2-45b3-a38f-56c1064b19b1",
   "metadata": {},
   "source": [
    "EDA\n",
    "ShipMode\n"
   ]
  },
  {
   "cell_type": "code",
   "execution_count": 59,
   "id": "07227529-44c7-47fa-9cc2-a4dafeecd8dd",
   "metadata": {},
   "outputs": [
    {
     "data": {
      "text/plain": [
       "<AxesSubplot:xlabel='Ship Mode', ylabel='count'>"
      ]
     },
     "execution_count": 59,
     "metadata": {},
     "output_type": "execute_result"
    },
    {
     "data": {
      "image/png": "[encoded data removed]",
      "text/plain": [
       "<Figure size 640x480 with 1 Axes>"
      ]
     },
     "metadata": {},
     "output_type": "display_data"
    }
   ],
   "source": [
    "sns.countplot(x='Ship Mode',data=data)"
   ]
  },
  {
   "cell_type": "code",
   "execution_count": null,
   "id": "ddaf455b-f7aa-4fc2-80fa-d11bb4abb474",
   "metadata": {},
   "outputs": [],
   "source": [
    "#most of the ship mode was done by standard class then followed by second class"
   ]
  },
  {
   "cell_type": "code",
   "execution_count": 62,
   "id": "07859001-ee08-4ff2-b117-0842ac9470a4",
   "metadata": {},
   "outputs": [
    {
     "data": {
      "text/plain": [
       "<AxesSubplot:xlabel='Category', ylabel='count'>"
      ]
     },
     "execution_count": 62,
     "metadata": {},
     "output_type": "execute_result"
    },
    {
     "data": {
      "image/png": "[encoded data removed]",
      "text/plain": [
       "<Figure size 640x480 with 1 Axes>"
      ]
     },
     "metadata": {},
     "output_type": "display_data"
    }
   ],
   "source": [
    "sns.countplot(x='Category',data=data)"
   ]
  },
  {
   "cell_type": "code",
   "execution_count": null,
   "id": "665e4597-3a4d-4317-bcbd-28ab025d33eb",
   "metadata": {},
   "outputs": [],
   "source": [
    "#most sales was done by office supplies category"
   ]
  },
  {
   "cell_type": "code",
   "execution_count": 67,
   "id": "bb0f0bc3-188c-4327-af72-ececbb148581",
   "metadata": {},
   "outputs": [],
   "source": [
    "sub_count=data['Sub-Category'].value_counts()"
   ]
  },
  {
   "cell_type": "code",
   "execution_count": 77,
   "id": "272f927e-d172-4562-994b-3611e4a6f648",
   "metadata": {},
   "outputs": [
    {
     "data": {
      "text/plain": [
       "<AxesSubplot:ylabel='Sub-Category'>"
      ]
     },
     "execution_count": 77,
     "metadata": {},
     "output_type": "execute_result"
    },
    {
     "data": {
      "image/png": "[encoded data removed]",
      "text/plain": [
       "<Figure size 640x480 with 1 Axes>"
      ]
     },
     "metadata": {},
     "output_type": "display_data"
    }
   ],
   "source": [
    "data['Sub-Category'].value_counts()[0:10].plot(kind='pie',autopct='%1.1f%%')"
   ]
  },
  {
   "cell_type": "code",
   "execution_count": null,
   "id": "471611d3-8985-4600-b9b9-50aa7cd8036c",
   "metadata": {},
   "outputs": [],
   "source": [
    "#Most of the products Blinders,Paper,Furnishings,Phones,storages,art and etc which customers prefer to buy from superstores."
   ]
  },
  {
   "cell_type": "code",
   "execution_count": null,
   "id": "6464f79a-a71f-4e51-817a-3f430cffd154",
   "metadata": {},
   "outputs": [],
   "source": [
    "CITY WISE SALES"
   ]
  },
  {
   "cell_type": "code",
   "execution_count": 80,
   "id": "43d62093-9244-4729-9ef7-ba089cd8c83a",
   "metadata": {},
   "outputs": [
    {
     "data": {
      "text/plain": [
       "City\n",
       "New York City    256368.1610\n",
       "Los Angeles      175851.3410\n",
       "Seattle          119540.7420\n",
       "San Francisco    112669.0920\n",
       "Philadelphia     109077.0130\n",
       "Houston           64504.7604\n",
       "Chicago           48539.5410\n",
       "San Diego         47521.0290\n",
       "Jacksonville      44713.1830\n",
       "Springfield       43054.3420\n",
       "Detroit           42446.9440\n",
       "Name: Sales, dtype: float64"
      ]
     },
     "execution_count": 80,
     "metadata": {},
     "output_type": "execute_result"
    }
   ],
   "source": [
    "#top 10 states sales wise\n",
    "data.groupby(\"City\")[\"Sales\"].sum().sort_values(ascending=False)[0:11]"
   ]
  },
  {
   "cell_type": "code",
   "execution_count": null,
   "id": "f2ca3719-ba79-46ef-b36a-99ced597e864",
   "metadata": {},
   "outputs": [],
   "source": [
    "#most of the sales are coming from new york city , los angeles ,seattle "
   ]
  },
  {
   "cell_type": "code",
   "execution_count": 81,
   "id": "35375cec-69ac-47a5-80a0-ee973dfade68",
   "metadata": {},
   "outputs": [
    {
     "data": {
      "text/plain": [
       "City\n",
       "New York City    62036.9837\n",
       "Los Angeles      30440.7579\n",
       "Seattle          29156.0967\n",
       "San Francisco    17507.3854\n",
       "Detroit          13181.7908\n",
       "Lafayette        10018.3876\n",
       "Jackson           7581.6828\n",
       "Atlanta           6993.6629\n",
       "Minneapolis       6824.5846\n",
       "San Diego         6377.1960\n",
       "Springfield       6200.6974\n",
       "Name: Profit, dtype: float64"
      ]
     },
     "execution_count": 81,
     "metadata": {},
     "output_type": "execute_result"
    }
   ],
   "source": [
    "#top 10 states profit wise\n",
    "data.groupby(\"City\")[\"Profit\"].sum().sort_values(ascending=False)[0:11]"
   ]
  },
  {
   "cell_type": "code",
   "execution_count": null,
   "id": "1089ace2-551a-4991-871c-364322d715ff",
   "metadata": {},
   "outputs": [],
   "source": [
    "#most of the sales are coming from new york city , los angeles ,seattle\n",
    "#but Philadelphia,Houston,Chicago,Jacksonville those cities did not get more profit even though those cities are top 10 sales cities"
   ]
  },
  {
   "cell_type": "code",
   "execution_count": 85,
   "id": "d424e036-3af2-4b57-9119-9b3e988f969b",
   "metadata": {},
   "outputs": [
    {
     "name": "stderr",
     "output_type": "stream",
     "text": [
      "C:\\Users\\kaleeshwaran m\\AppData\\Local\\Temp\\ipykernel_22264\\829706464.py:1: FutureWarning: Indexing with multiple keys (implicitly converted to a tuple of keys) will be deprecated, use a list instead.\n",
      "  data.groupby(\"City\")[\"Discount\",\"Sales\",\"Profit\"].sum().sort_values(\"Discount\",ascending=False)[0:11]\n"
     ]
    },
    {
     "data": {
      "text/html": [
       "<div>\n",
       "<style scoped>\n",
       "    .dataframe tbody tr th:only-of-type {\n",
       "        vertical-align: middle;\n",
       "    }\n",
       "\n",
       "    .dataframe tbody tr th {\n",
       "        vertical-align: top;\n",
       "    }\n",
       "\n",
       "    .dataframe thead th {\n",
       "        text-align: right;\n",
       "    }\n",
       "</style>\n",
       "<table border=\"1\" class=\"dataframe\">\n",
       "  <thead>\n",
       "    <tr style=\"text-align: right;\">\n",
       "      <th></th>\n",
       "      <th>Discount</th>\n",
       "      <th>Sales</th>\n",
       "      <th>Profit</th>\n",
       "    </tr>\n",
       "    <tr>\n",
       "      <th>City</th>\n",
       "      <th></th>\n",
       "      <th></th>\n",
       "      <th></th>\n",
       "    </tr>\n",
       "  </thead>\n",
       "  <tbody>\n",
       "    <tr>\n",
       "      <th>Philadelphia</th>\n",
       "      <td>175.50</td>\n",
       "      <td>109077.0130</td>\n",
       "      <td>-13837.7674</td>\n",
       "    </tr>\n",
       "    <tr>\n",
       "      <th>Houston</th>\n",
       "      <td>143.14</td>\n",
       "      <td>64504.7604</td>\n",
       "      <td>-10153.5485</td>\n",
       "    </tr>\n",
       "    <tr>\n",
       "      <th>Chicago</th>\n",
       "      <td>120.50</td>\n",
       "      <td>48539.5410</td>\n",
       "      <td>-6654.5688</td>\n",
       "    </tr>\n",
       "    <tr>\n",
       "      <th>Dallas</th>\n",
       "      <td>56.30</td>\n",
       "      <td>20131.9322</td>\n",
       "      <td>-2846.5257</td>\n",
       "    </tr>\n",
       "    <tr>\n",
       "      <th>Los Angeles</th>\n",
       "      <td>55.50</td>\n",
       "      <td>175851.3410</td>\n",
       "      <td>30440.7579</td>\n",
       "    </tr>\n",
       "    <tr>\n",
       "      <th>New York City</th>\n",
       "      <td>51.40</td>\n",
       "      <td>256368.1610</td>\n",
       "      <td>62036.9837</td>\n",
       "    </tr>\n",
       "    <tr>\n",
       "      <th>Columbus</th>\n",
       "      <td>38.50</td>\n",
       "      <td>38706.2430</td>\n",
       "      <td>5897.1013</td>\n",
       "    </tr>\n",
       "    <tr>\n",
       "      <th>Jacksonville</th>\n",
       "      <td>35.85</td>\n",
       "      <td>44713.1830</td>\n",
       "      <td>-2323.8350</td>\n",
       "    </tr>\n",
       "    <tr>\n",
       "      <th>San Francisco</th>\n",
       "      <td>34.00</td>\n",
       "      <td>112669.0920</td>\n",
       "      <td>17507.3854</td>\n",
       "    </tr>\n",
       "    <tr>\n",
       "      <th>Seattle</th>\n",
       "      <td>27.80</td>\n",
       "      <td>119540.7420</td>\n",
       "      <td>29156.0967</td>\n",
       "    </tr>\n",
       "    <tr>\n",
       "      <th>Aurora</th>\n",
       "      <td>24.00</td>\n",
       "      <td>11656.4780</td>\n",
       "      <td>-2691.7386</td>\n",
       "    </tr>\n",
       "  </tbody>\n",
       "</table>\n",
       "</div>"
      ],
      "text/plain": [
       "               Discount        Sales      Profit\n",
       "City                                            \n",
       "Philadelphia     175.50  109077.0130 -13837.7674\n",
       "Houston          143.14   64504.7604 -10153.5485\n",
       "Chicago          120.50   48539.5410  -6654.5688\n",
       "Dallas            56.30   20131.9322  -2846.5257\n",
       "Los Angeles       55.50  175851.3410  30440.7579\n",
       "New York City     51.40  256368.1610  62036.9837\n",
       "Columbus          38.50   38706.2430   5897.1013\n",
       "Jacksonville      35.85   44713.1830  -2323.8350\n",
       "San Francisco     34.00  112669.0920  17507.3854\n",
       "Seattle           27.80  119540.7420  29156.0967\n",
       "Aurora            24.00   11656.4780  -2691.7386"
      ]
     },
     "execution_count": 85,
     "metadata": {},
     "output_type": "execute_result"
    }
   ],
   "source": [
    "data.groupby(\"City\")[\"Discount\",\"Sales\",\"Profit\"].sum().sort_values(\"Discount\",ascending=False)[0:11]"
   ]
  },
  {
   "cell_type": "code",
   "execution_count": null,
   "id": "09df1418-e769-4389-96d6-6ee1bc9bffca",
   "metadata": {},
   "outputs": [],
   "source": [
    "#the reason why those cities did not give more profit means those cities gave more discount \n",
    "#So it does not mean  more sales happen & more profit,we should look on that"
   ]
  },
  {
   "cell_type": "code",
   "execution_count": 87,
   "id": "6215052a-eee0-4226-b415-9e591cdbc3f1",
   "metadata": {},
   "outputs": [
    {
     "data": {
      "text/plain": [
       "City\n",
       "Abilene            1.392\n",
       "Elyria             1.824\n",
       "Jupiter            2.064\n",
       "Pensacola          2.214\n",
       "Ormond Beach       2.808\n",
       "San Luis Obispo    3.620\n",
       "Springdale         4.300\n",
       "Layton             4.960\n",
       "Keller             6.000\n",
       "Missouri City      6.370\n",
       "Deer Park          6.924\n",
       "Name: Sales, dtype: float64"
      ]
     },
     "execution_count": 87,
     "metadata": {},
     "output_type": "execute_result"
    }
   ],
   "source": [
    "#worst sales cities\n",
    "data.groupby(\"City\")[\"Sales\"].sum().sort_values(ascending=True)[0:11]"
   ]
  },
  {
   "cell_type": "code",
   "execution_count": 89,
   "id": "3d3046b6-934a-4382-9383-e1b325dc38ee",
   "metadata": {},
   "outputs": [
    {
     "data": {
      "text/plain": [
       "City\n",
       "Philadelphia   -13837.7674\n",
       "Houston        -10153.5485\n",
       "San Antonio     -7299.0502\n",
       "Lancaster       -7239.0684\n",
       "Chicago         -6654.5688\n",
       "Burlington      -3622.8772\n",
       "Dallas          -2846.5257\n",
       "Phoenix         -2790.8832\n",
       "Aurora          -2691.7386\n",
       "Jacksonville    -2323.8350\n",
       "Memphis         -1479.0400\n",
       "Name: Profit, dtype: float64"
      ]
     },
     "execution_count": 89,
     "metadata": {},
     "output_type": "execute_result"
    }
   ],
   "source": [
    "#worst profit cities\n",
    "data.groupby(\"City\")[\"Profit\"].sum().sort_values(ascending=True)[0:11]"
   ]
  },
  {
   "cell_type": "code",
   "execution_count": 103,
   "id": "e2def8c2-d9da-4ec4-82fc-18d6877f4534",
   "metadata": {},
   "outputs": [
    {
     "data": {
      "text/plain": [
       "State\n",
       "California        457687.6315\n",
       "New York          310876.2710\n",
       "Texas             170188.0458\n",
       "Washington        138641.2700\n",
       "Pennsylvania      116511.9140\n",
       "Florida            89473.7080\n",
       "Illinois           80166.1010\n",
       "Ohio               78258.1360\n",
       "Michigan           76269.6140\n",
       "Virginia           70636.7200\n",
       "North Carolina     55603.1640\n",
       "Name: Sales, dtype: float64"
      ]
     },
     "execution_count": 103,
     "metadata": {},
     "output_type": "execute_result"
    }
   ],
   "source": [
    "#state wise top 10 sales\n",
    "data.groupby(\"State\")[\"Sales\"].sum().sort_values(ascending=False)[0:11]"
   ]
  },
  {
   "cell_type": "code",
   "execution_count": 106,
   "id": "5618423a-d3a3-4bec-bc16-b97c821016d2",
   "metadata": {},
   "outputs": [
    {
     "name": "stderr",
     "output_type": "stream",
     "text": [
      "C:\\Users\\kaleeshwaran m\\AppData\\Local\\Temp\\ipykernel_22264\\515061638.py:2: FutureWarning: Indexing with multiple keys (implicitly converted to a tuple of keys) will be deprecated, use a list instead.\n",
      "  data.groupby(\"State\")[\"Discount\",\"Sales\",\"Profit\"].sum().sort_values(\"Discount\",ascending=False)[0:11]\n"
     ]
    },
    {
     "data": {
      "text/html": [
       "<div>\n",
       "<style scoped>\n",
       "    .dataframe tbody tr th:only-of-type {\n",
       "        vertical-align: middle;\n",
       "    }\n",
       "\n",
       "    .dataframe tbody tr th {\n",
       "        vertical-align: top;\n",
       "    }\n",
       "\n",
       "    .dataframe thead th {\n",
       "        text-align: right;\n",
       "    }\n",
       "</style>\n",
       "<table border=\"1\" class=\"dataframe\">\n",
       "  <thead>\n",
       "    <tr style=\"text-align: right;\">\n",
       "      <th></th>\n",
       "      <th>Discount</th>\n",
       "      <th>Sales</th>\n",
       "      <th>Profit</th>\n",
       "    </tr>\n",
       "    <tr>\n",
       "      <th>State</th>\n",
       "      <th></th>\n",
       "      <th></th>\n",
       "      <th></th>\n",
       "    </tr>\n",
       "  </thead>\n",
       "  <tbody>\n",
       "    <tr>\n",
       "      <th>Texas</th>\n",
       "      <td>364.64</td>\n",
       "      <td>170188.0458</td>\n",
       "      <td>-25729.3563</td>\n",
       "    </tr>\n",
       "    <tr>\n",
       "      <th>Pennsylvania</th>\n",
       "      <td>192.90</td>\n",
       "      <td>116511.9140</td>\n",
       "      <td>-15559.9603</td>\n",
       "    </tr>\n",
       "    <tr>\n",
       "      <th>Illinois</th>\n",
       "      <td>191.90</td>\n",
       "      <td>80166.1010</td>\n",
       "      <td>-12607.8870</td>\n",
       "    </tr>\n",
       "    <tr>\n",
       "      <th>Ohio</th>\n",
       "      <td>152.40</td>\n",
       "      <td>78258.1360</td>\n",
       "      <td>-16971.3766</td>\n",
       "    </tr>\n",
       "    <tr>\n",
       "      <th>California</th>\n",
       "      <td>145.60</td>\n",
       "      <td>457687.6315</td>\n",
       "      <td>76381.3871</td>\n",
       "    </tr>\n",
       "    <tr>\n",
       "      <th>Florida</th>\n",
       "      <td>114.65</td>\n",
       "      <td>89473.7080</td>\n",
       "      <td>-3399.3017</td>\n",
       "    </tr>\n",
       "    <tr>\n",
       "      <th>North Carolina</th>\n",
       "      <td>70.60</td>\n",
       "      <td>55603.1640</td>\n",
       "      <td>-7490.9122</td>\n",
       "    </tr>\n",
       "    <tr>\n",
       "      <th>Arizona</th>\n",
       "      <td>68.00</td>\n",
       "      <td>35282.0010</td>\n",
       "      <td>-3427.9246</td>\n",
       "    </tr>\n",
       "    <tr>\n",
       "      <th>New York</th>\n",
       "      <td>62.40</td>\n",
       "      <td>310876.2710</td>\n",
       "      <td>74038.5486</td>\n",
       "    </tr>\n",
       "    <tr>\n",
       "      <th>Colorado</th>\n",
       "      <td>57.60</td>\n",
       "      <td>32108.1180</td>\n",
       "      <td>-6527.8579</td>\n",
       "    </tr>\n",
       "    <tr>\n",
       "      <th>Tennessee</th>\n",
       "      <td>53.30</td>\n",
       "      <td>30661.8730</td>\n",
       "      <td>-5341.6936</td>\n",
       "    </tr>\n",
       "  </tbody>\n",
       "</table>\n",
       "</div>"
      ],
      "text/plain": [
       "                Discount        Sales      Profit\n",
       "State                                            \n",
       "Texas             364.64  170188.0458 -25729.3563\n",
       "Pennsylvania      192.90  116511.9140 -15559.9603\n",
       "Illinois          191.90   80166.1010 -12607.8870\n",
       "Ohio              152.40   78258.1360 -16971.3766\n",
       "California        145.60  457687.6315  76381.3871\n",
       "Florida           114.65   89473.7080  -3399.3017\n",
       "North Carolina     70.60   55603.1640  -7490.9122\n",
       "Arizona            68.00   35282.0010  -3427.9246\n",
       "New York           62.40  310876.2710  74038.5486\n",
       "Colorado           57.60   32108.1180  -6527.8579\n",
       "Tennessee          53.30   30661.8730  -5341.6936"
      ]
     },
     "execution_count": 106,
     "metadata": {},
     "output_type": "execute_result"
    }
   ],
   "source": [
    "#state wise sales vs profit vs discount\n",
    "data.groupby(\"State\")[\"Discount\",\"Sales\",\"Profit\"].sum().sort_values(\"Discount\",ascending=False)[0:11]\n"
   ]
  },
  {
   "cell_type": "code",
   "execution_count": null,
   "id": "dac8a8be-e30a-4d1b-8034-90150a4782c4",
   "metadata": {},
   "outputs": [],
   "source": [
    "#Texas state gave more discount that's why did not get profit from Texas\n"
   ]
  },
  {
   "cell_type": "code",
   "execution_count": 111,
   "id": "2c3987a0-fd47-4e76-a29f-7f8e9d694749",
   "metadata": {},
   "outputs": [
    {
     "name": "stderr",
     "output_type": "stream",
     "text": [
      "C:\\Users\\kaleeshwaran m\\AppData\\Local\\Temp\\ipykernel_22264\\601647829.py:1: FutureWarning: Indexing with multiple keys (implicitly converted to a tuple of keys) will be deprecated, use a list instead.\n",
      "  data.groupby(\"Region\")[\"Discount\",\"Sales\",\"Profit\"].sum().sort_values(\"Sales\",ascending=False)[0:11]\n"
     ]
    },
    {
     "data": {
      "text/html": [
       "<div>\n",
       "<style scoped>\n",
       "    .dataframe tbody tr th:only-of-type {\n",
       "        vertical-align: middle;\n",
       "    }\n",
       "\n",
       "    .dataframe tbody tr th {\n",
       "        vertical-align: top;\n",
       "    }\n",
       "\n",
       "    .dataframe thead th {\n",
       "        text-align: right;\n",
       "    }\n",
       "</style>\n",
       "<table border=\"1\" class=\"dataframe\">\n",
       "  <thead>\n",
       "    <tr style=\"text-align: right;\">\n",
       "      <th></th>\n",
       "      <th>Discount</th>\n",
       "      <th>Sales</th>\n",
       "      <th>Profit</th>\n",
       "    </tr>\n",
       "    <tr>\n",
       "      <th>Region</th>\n",
       "      <th></th>\n",
       "      <th></th>\n",
       "      <th></th>\n",
       "    </tr>\n",
       "  </thead>\n",
       "  <tbody>\n",
       "    <tr>\n",
       "      <th>West</th>\n",
       "      <td>350.20</td>\n",
       "      <td>725457.8245</td>\n",
       "      <td>108418.4489</td>\n",
       "    </tr>\n",
       "    <tr>\n",
       "      <th>East</th>\n",
       "      <td>414.00</td>\n",
       "      <td>678781.2400</td>\n",
       "      <td>91522.7800</td>\n",
       "    </tr>\n",
       "    <tr>\n",
       "      <th>Central</th>\n",
       "      <td>558.34</td>\n",
       "      <td>501239.8908</td>\n",
       "      <td>39706.3625</td>\n",
       "    </tr>\n",
       "    <tr>\n",
       "      <th>South</th>\n",
       "      <td>238.55</td>\n",
       "      <td>391721.9050</td>\n",
       "      <td>46749.4303</td>\n",
       "    </tr>\n",
       "  </tbody>\n",
       "</table>\n",
       "</div>"
      ],
      "text/plain": [
       "         Discount        Sales       Profit\n",
       "Region                                     \n",
       "West       350.20  725457.8245  108418.4489\n",
       "East       414.00  678781.2400   91522.7800\n",
       "Central    558.34  501239.8908   39706.3625\n",
       "South      238.55  391721.9050   46749.4303"
      ]
     },
     "execution_count": 111,
     "metadata": {},
     "output_type": "execute_result"
    }
   ],
   "source": [
    "data.groupby(\"Region\")[\"Discount\",\"Sales\",\"Profit\"].sum().sort_values(\"Sales\",ascending=False)[0:11]"
   ]
  },
  {
   "cell_type": "code",
   "execution_count": null,
   "id": "115ef5d7-d78f-4de8-9f07-b0890a3a02a9",
   "metadata": {},
   "outputs": [],
   "source": [
    "#we will come to conclusion west region best for sales and profit waie also "
   ]
  }
 ],
 "metadata": {
  "kernelspec": {
   "display_name": "Python 3 (ipykernel)",
   "language": "python",
   "name": "python3"
  },
  "language_info": {
   "codemirror_mode": {
    "name": "ipython",
    "version": 3
   },
   "file_extension": ".py",
   "mimetype": "text/x-python",
   "name": "python",
   "nbconvert_exporter": "python",
   "pygments_lexer": "ipython3",
   "version": "3.9.13"
  }
 },
 "nbformat": 4,
 "nbformat_minor": 5
}
